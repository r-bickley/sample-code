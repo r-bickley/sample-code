{
  "nbformat": 4,
  "nbformat_minor": 0,
  "metadata": {
    "colab": {
      "name": "Copy of PHYS-555-Assignment6",
      "provenance": [],
      "collapsed_sections": []
    },
    "kernelspec": {
      "name": "python3",
      "display_name": "Python 3"
    }
  },
  "cells": [
    {
      "cell_type": "markdown",
      "metadata": {
        "id": "tKczI139PJhV",
        "colab_type": "text"
      },
      "source": [
        "# Supervised Learning with Structured Data\n",
        "\n",
        "**PHYS-555 Winter 2020 - Assignment #6**\n",
        "\n",
        "\n",
        "Copy this notebook, edit and format it as you wish, as long as we can understand you answered the questions, and we can reproduce every cell."
      ]
    },
    {
      "cell_type": "markdown",
      "metadata": {
        "id": "p0z6ZyNjOb51",
        "colab_type": "text"
      },
      "source": [
        "## Knowledge Part (50%)\n",
        "\n",
        "You can answer the questions with a notebook cell below each question.\n"
      ]
    },
    {
      "cell_type": "markdown",
      "metadata": {
        "id": "Iw60nd4rO3lu",
        "colab_type": "text"
      },
      "source": [
        "1.  Give at least one metric and one visual method to evaluate classification models. Which data set (training, validation, test) should you use to compute these metrics?  "
      ]
    },
    {
      "cell_type": "markdown",
      "metadata": {
        "id": "_IrUQcdMRQ1D",
        "colab_type": "text"
      },
      "source": [
        "<font color='green'>You can use the validation loss as a metric to evaluate the performance of a classification model. Visually, you might use a confusion matrix plot, which shows the total (or fractional number) of items in each category: True Positives, False Positives, True Negatives, and False Negatives. Generally, if you have a separate validation set that the network has never seen in training, these metrics are applied to the validation set.</font>"
      ]
    },
    {
      "cell_type": "markdown",
      "metadata": {
        "id": "y-kvlRrLRUsX",
        "colab_type": "text"
      },
      "source": [
        "2. Give at least one metric and one visual method to evaluate predictions from a regression model. Is this metric robust to outlier?  \n"
      ]
    },
    {
      "cell_type": "markdown",
      "metadata": {
        "colab_type": "text",
        "id": "o-dpp2XlKu-G"
      },
      "source": [
        "<font color='green'>For a regression model, you might use the mean, median, and standard deviation statistics to determine the quality of a fit. The mean and standard deviation are not outlier-robust, but the median is. Graphically, you might plot the mean-squared error (MSE) versus training epoch. This is also not outlier-robust.</font>"
      ]
    },
    {
      "cell_type": "markdown",
      "metadata": {
        "id": "Vth8lN1FR9UX",
        "colab_type": "text"
      },
      "source": [
        "3. How would you regularize a Linear SVM model for a binary classification problem? Can you do multi-class classification with a SVM?\n",
        "\n"
      ]
    },
    {
      "cell_type": "markdown",
      "metadata": {
        "colab_type": "text",
        "id": "O0k3OkowKxQ7"
      },
      "source": [
        "<font color='green'>For a binary classification problem, you can regularize a linear SVM model by varying the parameter C, which influences the width of the margin that is used to identify the optimal line. Large to infinite C values narrow the margin, with a harder cutoff between the two classes, while smaller C values provide a wider margin with a softer cutoff. It is indeed possible to perform multiclass SVM classification.</font>"
      ]
    },
    {
      "cell_type": "markdown",
      "metadata": {
        "id": "ML9zsKkySihR",
        "colab_type": "text"
      },
      "source": [
        "4.  Explain the difference between a single Decision Tree and a Random Forest. Which hyper-parameters in a Decision Tree can increase the chance of overfitting? Which hyper-parameters in a Random Forest can prevent overfitting and how?"
      ]
    },
    {
      "cell_type": "markdown",
      "metadata": {
        "colab_type": "text",
        "id": "My2xhOd1KyiB"
      },
      "source": [
        "<font color='green'>A single decision tree separates parametric regions within the data where items of different classes reside, organized in a tree structure. Individual trees can be identified using machine learning methods. However, a random forest initializes multiple trees at random, and compares the effectiveness of each tree at classifying the data correctly. Random forests can also combine trees using ensembles, or a bootstrap aggregation method known as Bagging, which can help to clean up the boundaries of the final model's decision tree. Allowing for too much depth in trees, or too many leaves per node, or perhaps too many notes in general, can potentially result in overfitting. This can be avoided by limiting the depth, leaves per node, or number of leaf nodes. This prevents individual trees from carving up the parameter space into too many, likely unrealistic, regions.</font>"
      ]
    },
    {
      "cell_type": "markdown",
      "metadata": {
        "id": "rRu9_QJLTDmz",
        "colab_type": "text"
      },
      "source": [
        "5. Use the following Random Forest model used in the class [notebook](https://colab.research.google.com/drive/1Jp2E8iAIz0xC_trTq4G3bIpIZmNom1DQ) with the [galaxy redshift data set](https://coursespaces.uvic.ca/mod/resource/view.php?id=1415479): \n",
        "```\n",
        "RandomForestRegressor(n estimators=1, criterion=’mse’,\n",
        "                      max_depth=50, min_samples_split=2, \n",
        "                      min_samples_leaf=2, max_leaf nodes=None,\n",
        "                      bootstrap=True)\n",
        "```\n",
        "Evaluate your model on a 80/20 split between training and validation. Evaluate how the model performance changes when you increase the number of trees to 5 and to 100."
      ]
    },
    {
      "cell_type": "markdown",
      "metadata": {
        "colab_type": "text",
        "id": "4FFzv9t2K0q_"
      },
      "source": [
        "<font color='green'>Using the given architecture with an 80/20 split, the model performance with 5 estimators is characterized by a mean of -.0026, a median of .0026, and sigma of 0.0948. With 100 estimators, these statistics change to mean = -.0152, median = -.0096, and sigma = .0920.</font>"
      ]
    },
    {
      "cell_type": "markdown",
      "metadata": {
        "id": "voWIBnkHTfxK",
        "colab_type": "text"
      },
      "source": [
        "6. Give a simple explanation of the difference between Bagging and Boosting for Decision Trees."
      ]
    },
    {
      "cell_type": "markdown",
      "metadata": {
        "colab_type": "text",
        "id": "6u6cjdqlK110"
      },
      "source": [
        "<font color='green'>Bagging decreases the variance in predictions through the generation of additional data points based on the existing population of data, using combinations or interpolations of data points. Boosting involves iteratively adjusting the weights of observations based on the previous classification, so that incorrect predictions will be assigned a greater weight in the next iteration.</font>"
      ]
    },
    {
      "cell_type": "markdown",
      "metadata": {
        "id": "BGrfWMWNTpcM",
        "colab_type": "text"
      },
      "source": [
        "7. Is there any difference between a one neuron Neural Network and a Logistic Regression model? What happens if we use a ReLU activation  instead of a sigmoid activation function in the Neural Network model for a binary classification? "
      ]
    },
    {
      "cell_type": "markdown",
      "metadata": {
        "colab_type": "text",
        "id": "TfUH2iKPK3HV"
      },
      "source": [
        "<font color='green'>There is effectively no difference between these two models. Using a ReLU activation instead of signmoid will reduce the impact of the \"vanishing gradient\" problem; the gradient of the sigmoid function becomes increasingly small with increasing absolute value of x, and so the training rate also declines. ReLU could, therefore, result in faster training. However, ReLU could potentially blow up activation, as the output function itself is unconstrained.</font>"
      ]
    },
    {
      "cell_type": "markdown",
      "metadata": {
        "id": "I7e1jMtMT0nD",
        "colab_type": "text"
      },
      "source": [
        "8. What is the aim of back-propagation? Could you train a one layer Neural Network without back-propagation?"
      ]
    },
    {
      "cell_type": "markdown",
      "metadata": {
        "colab_type": "text",
        "id": "Rxf95QZ0Ll3z"
      },
      "source": [
        "<font color='green'>Back propogation is used to calculate the impact of different neurons on the gradient of the prediction of a neural network, thus determining the importances of different features and allowing for the most significant features to be considered with more weight. It would not be possible to train a single neuron without back propogation, or else there would be no way to properly minimize the cost function.</font>"
      ]
    },
    {
      "cell_type": "markdown",
      "metadata": {
        "id": "1oHhvhWeT9Q2",
        "colab_type": "text"
      },
      "source": [
        "9. What is the hyper-parameter in a one neuron Neural Network model? In training a Multi-Layer Perceptron model, give at least one method to avoid overfitting."
      ]
    },
    {
      "cell_type": "markdown",
      "metadata": {
        "colab_type": "text",
        "id": "WyVFaAtgLn2G"
      },
      "source": [
        "<font color='green'>In a one-neuron NN model, the only available hyperparameter is the learning rate. In a Multi-Layer Perceptron model, you can avoid overfitting by using regularization, or back propogation.</font>"
      ]
    },
    {
      "cell_type": "markdown",
      "metadata": {
        "id": "x6WpRNisUE8Y",
        "colab_type": "text"
      },
      "source": [
        "10. Can a sigmoid activation function be in the last layer of a regression neural network model and why? What would be the best choice?"
      ]
    },
    {
      "cell_type": "markdown",
      "metadata": {
        "colab_type": "text",
        "id": "ptyTUs-qLpMm"
      },
      "source": [
        "<font color='green'>A sigmoid activation function really only makes sense for classification, not for regression. You would want to use a linear activation function, such that a value along some continuum would be predicted, rather than a choice from a set of outcomes with some probability.</font>"
      ]
    },
    {
      "cell_type": "markdown",
      "metadata": {
        "id": "ZQzRaqCSUlkR",
        "colab_type": "text"
      },
      "source": [
        "## Practice Part (50%)"
      ]
    },
    {
      "cell_type": "markdown",
      "metadata": {
        "id": "H7MyG8AqUpla",
        "colab_type": "text"
      },
      "source": [
        "In the practice part, we will take a look at a particular data problem: the prediction of ozone concentration as a factor of other weather-based features in Los Angeles in 1976. \n",
        "\n",
        "We will make a model for 3 estimators:\n",
        "- a Support Vector Machine\n",
        "- a Random Forest\n",
        "- a simple Multi-Layer Perceptron\n",
        "\n",
        "\n",
        "The data is taken from the book Elements of Statistical Learning by Hastie et al., we will use the the [ozone data set](https://web.stanford.edu/~hastie/ElemStatLearn/datasets/LAozone.info.txt)\n",
        "\n",
        "\n",
        "**Description**\n",
        "\n",
        "These data record the level of atmospheric ozone concentration from eight daily meteorological measurements made in the Los Angeles basin in 1976.  Although measurements were made every day that year, some observations were missing; here we have the 330 complete cases. The data were given to us by Leo Breiman; he was a consultant on a project from which these data are taken.  The response, referred to as ozone, is actually the log of the daily maximum of the hourly-average ozone concentrations in Upland, California.\n",
        "\n",
        "Detailed variable names:\n",
        "* ozone : Upland Maximum Ozone\n",
        "* vh : Vandenberg 500 mb Height\n",
        "* wind : Wind Speed (mph)\n",
        "* humidity : Humidity (%)\n",
        "* temp : Sandburg AFB Temperature\n",
        "* ibh : Inversion Base Height\n",
        "* dpg : Daggot Pressure Gradient\n",
        "* ibt : Inversion Base Temperature\n",
        "* vis : Visibility (miles)\n",
        "* doy : Day of the Year\n",
        "\n",
        "**Note**\n",
        "\n",
        "You are free to re-arrange the notebook cells, use more cells, and install packages as you wish. The only requirement is that it has to run on Colab. For modelling, our advice is to limit to using only `scikit-learn` estimators.\n",
        "\n",
        "**Important**\n",
        "\n",
        "For each model that you fit (questions 3-4-5):\n",
        "- describe the cross-validation procedure if any\n",
        "- describe the data preparation and normalizing if any\n",
        "- plot the predictions vs. ground truth and print your model metrics."
      ]
    },
    {
      "cell_type": "markdown",
      "metadata": {
        "id": "fVOWdLQkVlhd",
        "colab_type": "text"
      },
      "source": [
        "1. Prepare your notebook with package imports and explore your data. Describe what you observe. The data can be found as a CSV file at [this URL](http://www-stat.stanford.edu/~tibs/ElemStatLearn/datasets/LAozone.data)."
      ]
    },
    {
      "cell_type": "code",
      "metadata": {
        "id": "an6hd3cxD3jV",
        "colab_type": "code",
        "colab": {
          "base_uri": "https://localhost:8080/",
          "height": 424
        },
        "outputId": "2a65ad80-f3ce-438e-e2bc-3a924ee6dd14"
      },
      "source": [
        "# your input\n",
        "### import the following modules:\n",
        "import numpy as np\n",
        "import matplotlib.pyplot as plt\n",
        "from sklearn import model_selection as md\n",
        "from sklearn import preprocessing\n",
        "from sklearn.ensemble import RandomForestRegressor\n",
        "from sklearn.ensemble import RandomForestClassifier\n",
        "from sklearn.datasets import make_classification\n",
        "from sklearn.model_selection import train_test_split\n",
        "from matplotlib import cm\n",
        "from sklearn.metrics import roc_curve, auc\n",
        "from sklearn.neighbors import KNeighborsClassifier\n",
        "from sklearn.metrics import confusion_matrix\n",
        "from sklearn.svm import SVR\n",
        "import itertools\n",
        "from sklearn.model_selection import train_test_split\n",
        "from sklearn.preprocessing import OneHotEncoder\n",
        "import pandas as pd\n",
        "from sklearn.neural_network import MLPRegressor\n",
        "from sklearn.preprocessing import MinMaxScaler\n",
        "from sklearn.metrics import mean_squared_error\n",
        "from sklearn.model_selection import KFold, cross_val_score\n",
        "from sklearn.model_selection import GridSearchCV\n",
        "from sklearn.metrics import explained_variance_score\n",
        "from sklearn.metrics import r2_score\n",
        "\n",
        "oz_data = pd.DataFrame(pd.read_csv('https://web.stanford.edu/~hastie/ElemStatLearn//datasets/LAozone.data'))\n",
        "oz_data"
      ],
      "execution_count": 40,
      "outputs": [
        {
          "output_type": "execute_result",
          "data": {
            "text/html": [
              "<div>\n",
              "<style scoped>\n",
              "    .dataframe tbody tr th:only-of-type {\n",
              "        vertical-align: middle;\n",
              "    }\n",
              "\n",
              "    .dataframe tbody tr th {\n",
              "        vertical-align: top;\n",
              "    }\n",
              "\n",
              "    .dataframe thead th {\n",
              "        text-align: right;\n",
              "    }\n",
              "</style>\n",
              "<table border=\"1\" class=\"dataframe\">\n",
              "  <thead>\n",
              "    <tr style=\"text-align: right;\">\n",
              "      <th></th>\n",
              "      <th>ozone</th>\n",
              "      <th>vh</th>\n",
              "      <th>wind</th>\n",
              "      <th>humidity</th>\n",
              "      <th>temp</th>\n",
              "      <th>ibh</th>\n",
              "      <th>dpg</th>\n",
              "      <th>ibt</th>\n",
              "      <th>vis</th>\n",
              "      <th>doy</th>\n",
              "    </tr>\n",
              "  </thead>\n",
              "  <tbody>\n",
              "    <tr>\n",
              "      <th>0</th>\n",
              "      <td>3</td>\n",
              "      <td>5710</td>\n",
              "      <td>4</td>\n",
              "      <td>28</td>\n",
              "      <td>40</td>\n",
              "      <td>2693</td>\n",
              "      <td>-25</td>\n",
              "      <td>87</td>\n",
              "      <td>250</td>\n",
              "      <td>3</td>\n",
              "    </tr>\n",
              "    <tr>\n",
              "      <th>1</th>\n",
              "      <td>5</td>\n",
              "      <td>5700</td>\n",
              "      <td>3</td>\n",
              "      <td>37</td>\n",
              "      <td>45</td>\n",
              "      <td>590</td>\n",
              "      <td>-24</td>\n",
              "      <td>128</td>\n",
              "      <td>100</td>\n",
              "      <td>4</td>\n",
              "    </tr>\n",
              "    <tr>\n",
              "      <th>2</th>\n",
              "      <td>5</td>\n",
              "      <td>5760</td>\n",
              "      <td>3</td>\n",
              "      <td>51</td>\n",
              "      <td>54</td>\n",
              "      <td>1450</td>\n",
              "      <td>25</td>\n",
              "      <td>139</td>\n",
              "      <td>60</td>\n",
              "      <td>5</td>\n",
              "    </tr>\n",
              "    <tr>\n",
              "      <th>3</th>\n",
              "      <td>6</td>\n",
              "      <td>5720</td>\n",
              "      <td>4</td>\n",
              "      <td>69</td>\n",
              "      <td>35</td>\n",
              "      <td>1568</td>\n",
              "      <td>15</td>\n",
              "      <td>121</td>\n",
              "      <td>60</td>\n",
              "      <td>6</td>\n",
              "    </tr>\n",
              "    <tr>\n",
              "      <th>4</th>\n",
              "      <td>4</td>\n",
              "      <td>5790</td>\n",
              "      <td>6</td>\n",
              "      <td>19</td>\n",
              "      <td>45</td>\n",
              "      <td>2631</td>\n",
              "      <td>-33</td>\n",
              "      <td>123</td>\n",
              "      <td>100</td>\n",
              "      <td>7</td>\n",
              "    </tr>\n",
              "    <tr>\n",
              "      <th>...</th>\n",
              "      <td>...</td>\n",
              "      <td>...</td>\n",
              "      <td>...</td>\n",
              "      <td>...</td>\n",
              "      <td>...</td>\n",
              "      <td>...</td>\n",
              "      <td>...</td>\n",
              "      <td>...</td>\n",
              "      <td>...</td>\n",
              "      <td>...</td>\n",
              "    </tr>\n",
              "    <tr>\n",
              "      <th>325</th>\n",
              "      <td>8</td>\n",
              "      <td>5630</td>\n",
              "      <td>4</td>\n",
              "      <td>50</td>\n",
              "      <td>50</td>\n",
              "      <td>2851</td>\n",
              "      <td>-5</td>\n",
              "      <td>100</td>\n",
              "      <td>70</td>\n",
              "      <td>359</td>\n",
              "    </tr>\n",
              "    <tr>\n",
              "      <th>326</th>\n",
              "      <td>2</td>\n",
              "      <td>5730</td>\n",
              "      <td>3</td>\n",
              "      <td>53</td>\n",
              "      <td>51</td>\n",
              "      <td>111</td>\n",
              "      <td>-14</td>\n",
              "      <td>225</td>\n",
              "      <td>200</td>\n",
              "      <td>362</td>\n",
              "    </tr>\n",
              "    <tr>\n",
              "      <th>327</th>\n",
              "      <td>3</td>\n",
              "      <td>5690</td>\n",
              "      <td>3</td>\n",
              "      <td>23</td>\n",
              "      <td>51</td>\n",
              "      <td>5000</td>\n",
              "      <td>-36</td>\n",
              "      <td>107</td>\n",
              "      <td>70</td>\n",
              "      <td>363</td>\n",
              "    </tr>\n",
              "    <tr>\n",
              "      <th>328</th>\n",
              "      <td>5</td>\n",
              "      <td>5650</td>\n",
              "      <td>3</td>\n",
              "      <td>61</td>\n",
              "      <td>50</td>\n",
              "      <td>3704</td>\n",
              "      <td>18</td>\n",
              "      <td>83</td>\n",
              "      <td>40</td>\n",
              "      <td>364</td>\n",
              "    </tr>\n",
              "    <tr>\n",
              "      <th>329</th>\n",
              "      <td>1</td>\n",
              "      <td>5550</td>\n",
              "      <td>4</td>\n",
              "      <td>85</td>\n",
              "      <td>39</td>\n",
              "      <td>5000</td>\n",
              "      <td>8</td>\n",
              "      <td>44</td>\n",
              "      <td>100</td>\n",
              "      <td>365</td>\n",
              "    </tr>\n",
              "  </tbody>\n",
              "</table>\n",
              "<p>330 rows × 10 columns</p>\n",
              "</div>"
            ],
            "text/plain": [
              "     ozone    vh  wind  humidity  temp   ibh  dpg  ibt  vis  doy\n",
              "0        3  5710     4        28    40  2693  -25   87  250    3\n",
              "1        5  5700     3        37    45   590  -24  128  100    4\n",
              "2        5  5760     3        51    54  1450   25  139   60    5\n",
              "3        6  5720     4        69    35  1568   15  121   60    6\n",
              "4        4  5790     6        19    45  2631  -33  123  100    7\n",
              "..     ...   ...   ...       ...   ...   ...  ...  ...  ...  ...\n",
              "325      8  5630     4        50    50  2851   -5  100   70  359\n",
              "326      2  5730     3        53    51   111  -14  225  200  362\n",
              "327      3  5690     3        23    51  5000  -36  107   70  363\n",
              "328      5  5650     3        61    50  3704   18   83   40  364\n",
              "329      1  5550     4        85    39  5000    8   44  100  365\n",
              "\n",
              "[330 rows x 10 columns]"
            ]
          },
          "metadata": {
            "tags": []
          },
          "execution_count": 40
        }
      ]
    },
    {
      "cell_type": "code",
      "metadata": {
        "id": "yTr2lI594etS",
        "colab_type": "code",
        "colab": {
          "base_uri": "https://localhost:8080/",
          "height": 646
        },
        "outputId": "c52e6718-bceb-490d-b253-3b826778d668"
      },
      "source": [
        "fig,axarr = plt.subplots(3,3,figsize=(11,11))\n",
        "for i in range(3):\n",
        "  for j in range(3):\n",
        "    axarr[i,j].hist(oz_data[oz_data.columns[i+j+1]])\n",
        "    axarr[i,j].legend([oz_data.columns[i+j+1]])"
      ],
      "execution_count": 26,
      "outputs": [
        {
          "output_type": "display_data",
          "data": {
            "image/png": "[encoded data removed]",
            "text/plain": [
              "<Figure size 792x792 with 9 Axes>"
            ]
          },
          "metadata": {
            "tags": []
          }
        }
      ]
    },
    {
      "cell_type": "code",
      "metadata": {
        "id": "B54e8Pw7xSGZ",
        "colab_type": "code",
        "colab": {
          "base_uri": "https://localhost:8080/",
          "height": 590
        },
        "outputId": "a961d98c-8ad4-4d31-8d66-e26f790d2f55"
      },
      "source": [
        "#The ozone information is in the first column, with the rest of the parameters being in the other columns.\n",
        "tar1 = np.ravel(oz_data.loc[:,['ozone']])\n",
        "display(tar1)\n",
        "scaler = MinMaxScaler()\n",
        "inp1 = scaler.fit_transform(oz_data.drop(['ozone'],axis=1))\n",
        "display(inp1)"
      ],
      "execution_count": 2,
      "outputs": [
        {
          "output_type": "display_data",
          "data": {
            "text/plain": [
              "array([ 3,  5,  5,  6,  4,  4,  6,  7,  4,  6,  5,  4,  4,  7,  5,  9,  4,\n",
              "        3,  4,  4,  5,  6,  9,  6,  6, 11, 10,  7, 12,  9,  2,  3,  3,  2,\n",
              "        3,  3,  4,  6,  8,  6,  4,  3,  7, 11, 13,  6,  5,  4,  4,  6, 10,\n",
              "       15, 23, 17,  7,  2,  3,  3,  4,  6,  7,  7,  6,  3,  2,  8, 12, 12,\n",
              "       16,  9, 24, 13,  8, 10,  8,  9, 10, 14,  9, 11,  7,  9, 12, 12,  8,\n",
              "        9,  5,  4,  4,  9, 13,  5, 10, 10,  7,  5,  4,  7,  3,  4,  7, 11,\n",
              "       15, 22, 17,  7, 10, 19, 18, 12,  6,  9, 19, 21, 29, 16, 11,  2, 12,\n",
              "       16, 22, 20, 27, 33, 25, 31, 18, 24, 16, 12,  9, 16,  8,  9, 29, 20,\n",
              "        5,  5, 11, 12, 19, 17, 19, 16, 14, 10,  9,  7,  5,  2, 12, 22, 17,\n",
              "       26, 27, 14, 11, 23, 26, 21, 15, 20, 15, 18, 26, 19, 13, 30, 26, 15,\n",
              "       16, 16, 19, 23, 28, 34, 33, 24, 17, 10, 14, 13, 17, 22, 19, 20, 25,\n",
              "       28, 29, 23, 26, 14, 13, 26, 22, 14, 13,  9, 12, 14, 24, 19, 16,  7,\n",
              "        2,  4,  6, 12,  9, 15, 17, 13, 20, 22, 24, 26, 32, 33, 27, 38, 23,\n",
              "       19, 19, 15, 28, 10, 14, 26, 17,  3, 14, 29, 18,  3,  9, 19,  8, 23,\n",
              "       13,  7,  3,  5, 11, 12,  5,  4,  5,  4, 10, 17, 26, 30, 18, 12,  7,\n",
              "       15, 12,  7, 28, 22, 18, 14, 24, 10, 14,  9, 12,  7,  7,  6, 13,  5,\n",
              "        3,  7,  8, 10, 12,  6,  5, 20, 14, 16,  5,  3,  5,  1,  5,  4, 11,\n",
              "        6,  8, 14, 18, 12,  9,  7, 14,  4,  3,  3,  3,  3,  3,  3,  3,  6,\n",
              "        6,  5,  3,  4,  7,  5,  5,  4,  3,  2,  5,  3,  4,  4,  6,  6,  3,\n",
              "        4,  3,  8,  2,  3,  5,  1])"
            ]
          },
          "metadata": {
            "tags": []
          }
        },
        {
          "output_type": "display_data",
          "data": {
            "text/plain": [
              "array([[0.61904762, 0.19047619, 0.12162162, ..., 0.31372549, 0.71428571,\n",
              "        0.        ],\n",
              "       [0.6031746 , 0.14285714, 0.24324324, ..., 0.42857143, 0.28571429,\n",
              "        0.00276243],\n",
              "       [0.6984127 , 0.14285714, 0.43243243, ..., 0.45938375, 0.17142857,\n",
              "        0.00552486],\n",
              "       ...,\n",
              "       [0.58730159, 0.14285714, 0.05405405, ..., 0.3697479 , 0.2       ,\n",
              "        0.99447514],\n",
              "       [0.52380952, 0.14285714, 0.56756757, ..., 0.30252101, 0.11428571,\n",
              "        0.99723757],\n",
              "       [0.36507937, 0.19047619, 0.89189189, ..., 0.19327731, 0.28571429,\n",
              "        1.        ]])"
            ]
          },
          "metadata": {
            "tags": []
          }
        }
      ]
    },
    {
      "cell_type": "markdown",
      "metadata": {
        "id": "ZmRszYj6dHXa",
        "colab_type": "text"
      },
      "source": [
        "2. Split your data into a training and a test set. Select (or define one yourself) at least one metric of comparison you will use to evaluate your 3 models. The metric(s) should quantify the quality of the predictions.\n"
      ]
    },
    {
      "cell_type": "code",
      "metadata": {
        "id": "Gd3fE1Ss_hsT",
        "colab_type": "code",
        "colab": {
          "base_uri": "https://localhost:8080/",
          "height": 86
        },
        "outputId": "b05e106f-712f-4325-9bdc-c92e59a7c2d4"
      },
      "source": [
        "# your input\n",
        "X_tr1, X_va1, Y_tr1, Y_va1 = train_test_split(inp1, tar1, test_size=0.3)\n",
        "print ('shape inp (magnitudes) == ', np.shape(inp1))\n",
        "print ('shape tar (redshift) == ', np.shape(tar1))\n",
        "\n",
        "print ('shape X_tr1 , Y_tr1 (trining set (input and target, respectively) == ', np.shape(X_tr1),np.shape(Y_tr1))\n",
        "print ('shape X_va1 , Y_va1 (Validation set (input and target, respectively) == ', np.shape(X_va1),np.shape(Y_va1))\n",
        "#I will evaluate my 3 models using the basic mean squared error statistic and the r^2 statistic."
      ],
      "execution_count": 3,
      "outputs": [
        {
          "output_type": "stream",
          "text": [
            "shape inp (magnitudes) ==  (330, 9)\n",
            "shape tar (redshift) ==  (330,)\n",
            "shape X_tr1 , Y_tr1 (trining set (input and target, respectively) ==  (231, 9) (231,)\n",
            "shape X_va1 , Y_va1 (Validation set (input and target, respectively) ==  (99, 9) (99,)\n"
          ],
          "name": "stdout"
        }
      ]
    },
    {
      "cell_type": "markdown",
      "metadata": {
        "colab_type": "text",
        "id": "MmFhE6mqjVkE"
      },
      "source": [
        "3. Fit a Random Forest model to predict the Upland Maximum Ozone levels from the features. Which of the feature influences the most?"
      ]
    },
    {
      "cell_type": "code",
      "metadata": {
        "colab_type": "code",
        "id": "jILWw_HupXEJ",
        "colab": {
          "base_uri": "https://localhost:8080/",
          "height": 442
        },
        "outputId": "afad386c-a62b-4d06-d662-4f8ffa899a3c"
      },
      "source": [
        "# Using a Random Forest Regressor\n",
        "reg = RandomForestRegressor(n_estimators=35, criterion='mse',max_depth=4, min_samples_split=2, min_samples_leaf=2, max_leaf_nodes=None,bootstrap=True,random_state=10)\n",
        "reg.fit(X_tr1, Y_tr1)\n",
        "PY_tr1=reg.predict(X_tr1)\n",
        "PY_va1=reg.predict(X_va1)\n",
        "print(reg.feature_importances_)\n",
        "print('the MSE is '+str(mean_squared_error(Y_va1,PY_va1)))\n",
        "print('r squared is '+str(r2_score(Y_va1,PY_va1)))\n",
        "\n",
        "def mu_med_sig(pre,tar):\n",
        "    mu = np.mean(pre-tar)\n",
        "    med = np.median(pre-tar)\n",
        "    std = np.std(pre-tar)\n",
        "    return mu,med,std\n",
        "\n",
        "fig,axarr = plt.subplots(1,2,figsize=(11,5))\n",
        "\n",
        "axarr[0].set_xlabel('Target Ozone')\n",
        "axarr[0].set_ylabel('Predicted Ozone')\n",
        "axarr[0].legend(loc=4)\n",
        "mu,med,sig = mu_med_sig(PY_tr1,Y_tr1)\n",
        "axarr[0].text(0.05,0.95,'$\\mu$: %0.4f \\nmedian: %0.4f \\n$\\sigma$: %0.4f'%(mu,med,sig),\n",
        "              ha='left',va='top',transform=axarr[0].transAxes)\n",
        "axarr[0].scatter(Y_tr1,PY_tr1,edgecolor='black',linewidths=2,facecolor=None)\n",
        "axarr[0].scatter(Y_tr1,PY_tr1,facecolor='C0',label='Training set')\n",
        "\n",
        "axarr[1].set_xlabel('Target Ozone')\n",
        "axarr[1].set_ylabel('Predicted Ozone')\n",
        "axarr[1].legend(loc=4)\n",
        "mu,med,sig = mu_med_sig(PY_va1,Y_va1)\n",
        "axarr[1].text(0.05,0.95,'$\\mu$: %0.4f \\nmedian: %0.4f \\n$\\sigma$: %0.4f'%(mu,med,sig),\n",
        "              ha='left',va='top',transform=axarr[1].transAxes)\n",
        "axarr[1].scatter(Y_va1,PY_va1,edgecolor='black',linewidths=2,facecolor=None)\n",
        "axarr[1].scatter(Y_va1,PY_va1,facecolor='C1',label='Validation set')\n",
        "\n",
        "for ax in axarr:\n",
        "    xmin,xmax=0,40\n",
        "    ax.set_xlim(xmin,xmax)\n",
        "    ax.set_ylim(xmin,xmax)\n",
        "    ax.plot([xmin,xmax],[xmin,xmax],color='black',ls='dashed',zorder=-1)"
      ],
      "execution_count": 42,
      "outputs": [
        {
          "output_type": "stream",
          "text": [
            "No handles with labels found to put in legend.\n",
            "No handles with labels found to put in legend.\n"
          ],
          "name": "stderr"
        },
        {
          "output_type": "stream",
          "text": [
            "[0.00987357 0.00174702 0.04198084 0.67544566 0.05231006 0.04361409\n",
            " 0.14806754 0.01780341 0.00915782]\n",
            "the MSE is 18.55413839163408\n",
            "r squared is 0.6925056048015596\n"
          ],
          "name": "stdout"
        },
        {
          "output_type": "display_data",
          "data": {
            "image/png": "[encoded data removed]",
            "text/plain": [
              "<Figure size 792x360 with 2 Axes>"
            ]
          },
          "metadata": {
            "tags": []
          }
        }
      ]
    },
    {
      "cell_type": "markdown",
      "metadata": {
        "id": "kQQQAWRi6IXW",
        "colab_type": "text"
      },
      "source": [
        "I am not using cross-validation or any special data preparation here. According to my research, normalization is not helpful for the random forest regressor, but I have performed normalization because it has a significant impact on the SVC. The two most important features (by an order of magnitude) are temp (Sandburg AFB Temperature) and ibt (Inversion Base Temperature)"
      ]
    },
    {
      "cell_type": "markdown",
      "metadata": {
        "colab_type": "text",
        "id": "xHj1o05EpkZQ"
      },
      "source": [
        "4. Fit a SVM model with a Radial Basis Function to predict the ozone levels. Do you need to regularize? Take the most important feature you determined in the previous question and inspect whether you see a bias in the predictions, for example in plotting the residual between the predicted and ground truth vs. an input feature."
      ]
    },
    {
      "cell_type": "code",
      "metadata": {
        "colab_type": "code",
        "id": "2YLUgE-6p301",
        "colab": {
          "base_uri": "https://localhost:8080/",
          "height": 407
        },
        "outputId": "92990e01-4cc6-4989-dec9-b7ebdae7bd45"
      },
      "source": [
        "# your input\n",
        "reg = SVR(C=10)\n",
        "reg.fit(X_tr1, Y_tr1)\n",
        "PY_tr1=reg.predict(X_tr1)\n",
        "PY_va1=reg.predict(X_va1)\n",
        "print('the MSE is '+str(mean_squared_error(Y_va1,PY_va1)))\n",
        "print('r squared is '+str(r2_score(Y_va1,PY_va1)))\n",
        "\n",
        "fig,axarr = plt.subplots(1,2,figsize=(11,5))\n",
        "\n",
        "axarr[0].set_xlabel('Target Ozone')\n",
        "axarr[0].set_ylabel('Predicted Ozone')\n",
        "axarr[0].legend(loc=4)\n",
        "mu,med,sig = mu_med_sig(PY_tr1,Y_tr1)\n",
        "axarr[0].text(0.05,0.95,'$\\mu$: %0.4f \\nmedian: %0.4f \\n$\\sigma$: %0.4f'%(mu,med,sig),\n",
        "              ha='left',va='top',transform=axarr[0].transAxes)\n",
        "axarr[0].scatter(Y_tr1,PY_tr1,edgecolor='black',linewidths=2,facecolor=None)\n",
        "axarr[0].scatter(Y_tr1,PY_tr1,facecolor='C0',label='Training set')\n",
        "\n",
        "axarr[1].set_xlabel('Target Ozone')\n",
        "axarr[1].set_ylabel('Predicted Ozone')\n",
        "axarr[1].legend(loc=4)\n",
        "mu,med,sig = mu_med_sig(PY_va1,Y_va1)\n",
        "axarr[1].text(0.05,0.95,'$\\mu$: %0.4f \\nmedian: %0.4f \\n$\\sigma$: %0.4f'%(mu,med,sig),\n",
        "              ha='left',va='top',transform=axarr[1].transAxes)\n",
        "axarr[1].scatter(Y_va1,PY_va1,edgecolor='black',linewidths=2,facecolor=None)\n",
        "axarr[1].scatter(Y_va1,PY_va1,facecolor='C1',label='Validation set')\n",
        "\n",
        "for ax in axarr:\n",
        "    xmin,xmax=0,40\n",
        "    ax.set_xlim(xmin,xmax)\n",
        "    ax.set_ylim(xmin,xmax)\n",
        "    ax.plot([xmin,xmax],[xmin,xmax],color='black',ls='dashed',zorder=-1)"
      ],
      "execution_count": 44,
      "outputs": [
        {
          "output_type": "stream",
          "text": [
            "No handles with labels found to put in legend.\n",
            "No handles with labels found to put in legend.\n"
          ],
          "name": "stderr"
        },
        {
          "output_type": "stream",
          "text": [
            "the MSE is 15.961974293168668\n",
            "r squared is 0.7354650737291024\n"
          ],
          "name": "stdout"
        },
        {
          "output_type": "display_data",
          "data": {
            "image/png": "[encoded data removed]",
            "text/plain": [
              "<Figure size 792x360 with 2 Axes>"
            ]
          },
          "metadata": {
            "tags": []
          }
        }
      ]
    },
    {
      "cell_type": "markdown",
      "metadata": {
        "id": "0JqAooc5tuT0",
        "colab_type": "text"
      },
      "source": [
        "I am not using cross-validation or any special data preparation here, but the normalization of the data proves to be critical to the performance of the SVC. Regularization is not required, because the data is already uniform in composition, and rows in the data which are missing data were already removed."
      ]
    },
    {
      "cell_type": "code",
      "metadata": {
        "id": "k0LpCx8E1TmA",
        "colab_type": "code",
        "colab": {
          "base_uri": "https://localhost:8080/",
          "height": 334
        },
        "outputId": "70576329-cd64-4c9f-bdba-ad62bd4b1664"
      },
      "source": [
        "#Checking for a correlation bias with the most important feature, temp\n",
        "temps = [i[3] for i in X_va1]\n",
        "resid = [PY_va1[i]-Y_va1[i] for i in range(len(PY_va1))]\n",
        "figure1 = plt.figure(figsize=[5,5])\n",
        "plt.scatter(temps,resid)\n",
        "plt.xlabel('Temperature')\n",
        "plt.ylabel('Prediction Residual')\n",
        "plt.show()"
      ],
      "execution_count": 45,
      "outputs": [
        {
          "output_type": "display_data",
          "data": {
            "image/png": "[encoded data removed]",
            "text/plain": [
              "<Figure size 360x360 with 1 Axes>"
            ]
          },
          "metadata": {
            "tags": []
          }
        }
      ]
    },
    {
      "cell_type": "markdown",
      "metadata": {
        "id": "E0swmJnC2sl8",
        "colab_type": "text"
      },
      "source": [
        "As temperature increases, the residual of the predicted ozone value becomes increasingly large as well. This indicates that a bias is present."
      ]
    },
    {
      "cell_type": "markdown",
      "metadata": {
        "colab_type": "text",
        "id": "ie2NP04Kp653"
      },
      "source": [
        "5. Fit a two layers MLP to predict the same ozone level. Use a cross-validation search to experiment the number of neurons in the two layers."
      ]
    },
    {
      "cell_type": "code",
      "metadata": {
        "colab_type": "code",
        "id": "GRrslSP_p4wN",
        "colab": {
          "base_uri": "https://localhost:8080/",
          "height": 347
        },
        "outputId": "a1ac8966-6589-438f-c8e4-3e4721ce3bbd"
      },
      "source": [
        "# your input\n",
        "base_reg = MLPRegressor(learning_rate='adaptive', max_iter=5000, random_state=42)\n",
        "\n",
        "# Define search space:\n",
        "params = {\n",
        "    'activation': ['logistic', 'relu', 'tanh'],  # <-- added 'tanh' as third non-linear activation function\n",
        "    'alpha': np.logspace(0.0001, 100, 10),\n",
        "    'hidden_layer_sizes': [\n",
        "        (10, 10), (20, 10), (30, 10),\n",
        "        (40, 10), (90, 10)  # <-- added more neurons or layers\n",
        "    ]\n",
        "}\n",
        "\n",
        "# Find best hyper params and then refit on all training data:\n",
        "reg = GridSearchCV(estimator=base_reg, param_grid=params,\n",
        "                   n_jobs=8, cv=3, refit=True, verbose=5)  # <-- verbose=5\n",
        "reg.fit(X_tr1,Y_tr1)\n",
        "\n",
        "print(reg.best_estimator_)\n",
        "\n",
        "print(reg.best_params_)\n",
        "\n",
        "# Evaluate on unseen test data:\n",
        "err = explained_variance_score(Y_tr1, reg.predict(X_tr1))\n",
        "print(err)\n",
        "\n",
        "err = explained_variance_score(Y_va1, reg.predict(X_va1))\n",
        "print(err)"
      ],
      "execution_count": 46,
      "outputs": [
        {
          "output_type": "stream",
          "text": [
            "Fitting 3 folds for each of 150 candidates, totalling 450 fits\n"
          ],
          "name": "stdout"
        },
        {
          "output_type": "stream",
          "text": [
            "[Parallel(n_jobs=8)]: Using backend LokyBackend with 8 concurrent workers.\n",
            "[Parallel(n_jobs=8)]: Done   2 tasks      | elapsed:   17.5s\n",
            "[Parallel(n_jobs=8)]: Done  56 tasks      | elapsed:  2.0min\n",
            "[Parallel(n_jobs=8)]: Done 146 tasks      | elapsed:  4.0min\n",
            "[Parallel(n_jobs=8)]: Done 272 tasks      | elapsed:  8.7min\n",
            "[Parallel(n_jobs=8)]: Done 434 tasks      | elapsed: 14.5min\n",
            "[Parallel(n_jobs=8)]: Done 450 out of 450 | elapsed: 15.0min finished\n"
          ],
          "name": "stderr"
        },
        {
          "output_type": "stream",
          "text": [
            "MLPRegressor(activation='relu', alpha=1.0002302850208247, batch_size='auto',\n",
            "             beta_1=0.9, beta_2=0.999, early_stopping=False, epsilon=1e-08,\n",
            "             hidden_layer_sizes=(30, 10), learning_rate='adaptive',\n",
            "             learning_rate_init=0.001, max_fun=15000, max_iter=5000,\n",
            "             momentum=0.9, n_iter_no_change=10, nesterovs_momentum=True,\n",
            "             power_t=0.5, random_state=42, shuffle=True, solver='adam',\n",
            "             tol=0.0001, validation_fraction=0.1, verbose=False,\n",
            "             warm_start=False)\n",
            "{'activation': 'relu', 'alpha': 1.0002302850208247, 'hidden_layer_sizes': (30, 10)}\n",
            "0.7723006763218061\n",
            "0.6811163706165214\n"
          ],
          "name": "stdout"
        }
      ]
    },
    {
      "cell_type": "code",
      "metadata": {
        "id": "YvM64oArLZ02",
        "colab_type": "code",
        "colab": {
          "base_uri": "https://localhost:8080/",
          "height": 407
        },
        "outputId": "fcf32e8c-3603-4939-9538-4934499bf422"
      },
      "source": [
        "PY_tr1=reg.predict(X_tr1)\n",
        "PY_va1=reg.predict(X_va1)\n",
        "print('the MSE is '+str(mean_squared_error(Y_va1,PY_va1)))\n",
        "print('r squared is '+str(r2_score(Y_va1,PY_va1)))\n",
        "\n",
        "fig,axarr = plt.subplots(1,2,figsize=(11,5))\n",
        "\n",
        "axarr[0].set_xlabel('Target Ozone')\n",
        "axarr[0].set_ylabel('Predicted Ozone')\n",
        "axarr[0].legend(loc=4)\n",
        "mu,med,sig = mu_med_sig(PY_tr1,Y_tr1)\n",
        "axarr[0].text(0.05,0.95,'$\\mu$: %0.4f \\nmedian: %0.4f \\n$\\sigma$: %0.4f'%(mu,med,sig),\n",
        "              ha='left',va='top',transform=axarr[0].transAxes)\n",
        "axarr[0].scatter(Y_tr1,PY_tr1,edgecolor='black',linewidths=2,facecolor=None)\n",
        "axarr[0].scatter(Y_tr1,PY_tr1,facecolor='C0',label='Training set')\n",
        "\n",
        "axarr[1].set_xlabel('Target Ozone')\n",
        "axarr[1].set_ylabel('Predicted Ozone')\n",
        "axarr[1].legend(loc=4)\n",
        "mu,med,sig = mu_med_sig(PY_va1,Y_va1)\n",
        "axarr[1].text(0.05,0.95,'$\\mu$: %0.4f \\nmedian: %0.4f \\n$\\sigma$: %0.4f'%(mu,med,sig),\n",
        "              ha='left',va='top',transform=axarr[1].transAxes)\n",
        "axarr[1].scatter(Y_va1,PY_va1,edgecolor='black',linewidths=2,facecolor=None)\n",
        "axarr[1].scatter(Y_va1,PY_va1,facecolor='C1',label='Validation set')\n",
        "\n",
        "for ax in axarr:\n",
        "    xmin,xmax=0,40\n",
        "    ax.set_xlim(xmin,xmax)\n",
        "    ax.set_ylim(xmin,xmax)\n",
        "    ax.plot([xmin,xmax],[xmin,xmax],color='black',ls='dashed',zorder=-1)"
      ],
      "execution_count": 47,
      "outputs": [
        {
          "output_type": "stream",
          "text": [
            "No handles with labels found to put in legend.\n",
            "No handles with labels found to put in legend.\n"
          ],
          "name": "stderr"
        },
        {
          "output_type": "stream",
          "text": [
            "the MSE is 19.921576310570423\n",
            "r squared is 0.6698433023556356\n"
          ],
          "name": "stdout"
        },
        {
          "output_type": "display_data",
          "data": {
            "image/png": "[encoded data removed]",
            "text/plain": [
              "<Figure size 792x360 with 2 Axes>"
            ]
          },
          "metadata": {
            "tags": []
          }
        }
      ]
    },
    {
      "cell_type": "markdown",
      "metadata": {
        "colab_type": "text",
        "id": "dcbmg91Xvc6E"
      },
      "source": [
        "6. Compare your 3 models. Discuss briefly."
      ]
    },
    {
      "cell_type": "markdown",
      "metadata": {
        "id": "wqmKoHhP8WRl",
        "colab_type": "text"
      },
      "source": [
        "Of the three models, the SVM regressor exhibited the best performance on this regression problem. Comparing the metrics of performance, as well as the accuracy of the mean, median, and scatter of the three metrics, the SVM regressor still significantly outperformed the Random Forest, and is an improvement over the performance of the MLP as well."
      ]
    },
    {
      "cell_type": "code",
      "metadata": {
        "id": "9IfI55mf87hn",
        "colab_type": "code",
        "colab": {}
      },
      "source": [
        ""
      ],
      "execution_count": 0,
      "outputs": []
    }
  ]
}